{
 "cells": [
  {
   "cell_type": "markdown",
   "id": "bb8b1931",
   "metadata": {},
   "source": [
    "## Question\n",
    "\n",
    "Q1) Problem Statement – Real estate agents want help to predict the house price for regions\n",
    "in the USA. He gave you the dataset to work on and you decided to use the Linear\n",
    "Regression Model. Create a model that will help him to estimate what the house would\n",
    "sell for. URL for a dataset:https://github.com/huzaifsayed/Linear-Regression-Model-for-House-PricePrediction/blob/master/USA_Housing.csv"
   ]
  },
  {
   "cell_type": "code",
   "execution_count": 1,
   "id": "2d996b25-0fde-4944-9324-6b41264d35f4",
   "metadata": {},
   "outputs": [],
   "source": [
    "import pandas as pd\n",
    "from sklearn.model_selection import train_test_split\n",
    "from sklearn.linear_model import LinearRegression\n",
    "from sklearn.metrics import mean_squared_error, r2_score"
   ]
  },
  {
   "cell_type": "code",
   "execution_count": 2,
   "id": "e988fe43-50e8-40a2-876d-19638c22505e",
   "metadata": {},
   "outputs": [],
   "source": [
    "# Step 1: Load the dataset\n",
    "df = pd.read_csv(\"USA_Housing.csv\")  # Make sure this file is in the same folder\n",
    "\n",
    "# Step 2: Select features (drop 'Price' and 'Address')\n",
    "X = df.drop(['Price', 'Address'], axis=1)\n",
    "y = df['Price']"
   ]
  },
  {
   "cell_type": "code",
   "execution_count": 3,
   "id": "f813c5c5-b640-4459-8f45-360021d70548",
   "metadata": {},
   "outputs": [],
   "source": [
    "# Step 3: Split into training and test sets\n",
    "X_train, X_test, y_train, y_test = train_test_split(X, y, test_size=0.2, random_state=42)"
   ]
  },
  {
   "cell_type": "code",
   "execution_count": 4,
   "id": "1f5c0082-3a1d-46d1-8627-18b6cf1756aa",
   "metadata": {},
   "outputs": [],
   "source": [
    "# Step 4: Train the Linear Regression model\n",
    "model = LinearRegression()\n",
    "model.fit(X_train, y_train)\n",
    "\n",
    "# Step 5: Make predictions\n",
    "predictions = model.predict(X_test)"
   ]
  },
  {
   "cell_type": "code",
   "execution_count": 5,
   "id": "b8383be1",
   "metadata": {},
   "outputs": [
    {
     "name": "stdout",
     "output_type": "stream",
     "text": [
      "Mean Squared Error: 10089009300.894522\n",
      "R-squared Score: 0.9179971706834288\n"
     ]
    }
   ],
   "source": [
    "# Step 6: Evaluate the model\n",
    "print(\"Mean Squared Error:\", mean_squared_error(y_test, predictions))\n",
    "print(\"R-squared Score:\", r2_score(y_test, predictions))"
   ]
  },
  {
   "cell_type": "code",
   "execution_count": 13,
   "id": "d12fafb5",
   "metadata": {},
   "outputs": [
    {
     "name": "stdout",
     "output_type": "stream",
     "text": [
      "Predicted house price: 792630.8474610266\n"
     ]
    },
    {
     "name": "stderr",
     "output_type": "stream",
     "text": [
      "C:\\Users\\niraj_1kwckht\\anaconda\\envs\\GG_2472\\lib\\site-packages\\sklearn\\base.py:464: UserWarning: X does not have valid feature names, but LinearRegression was fitted with feature names\n",
      "  warnings.warn(\n"
     ]
    }
   ],
   "source": [
    "# Optional: Predict for a new house\n",
    "new_house = [[60000, 5, 7, 4, 30000]]  # Example input\n",
    "predicted_price = model.predict(new_house)\n",
    "print(\"Predicted house price:\", predicted_price[0])"
   ]
  },
  {
   "cell_type": "markdown",
   "id": "31e620a5",
   "metadata": {},
   "source": [
    "## Question\n",
    "\n",
    "Q12) A real estate company wants to predict house prices based on multiple features such as\n",
    "area income, house age, number of rooms, and population. Develop a Linear\n",
    "Regression model that can accurately estimate the price of a house using these\n",
    "features."
   ]
  },
  {
   "cell_type": "code",
   "execution_count": null,
   "id": "0186fa93",
   "metadata": {},
   "outputs": [],
   "source": [
    "## SAME AS Q1 - Describe this line ' new_house = [[60000, 5, 7, 4, 30000]] '' as features while predicting"
   ]
  }
 ],
 "metadata": {
  "kernelspec": {
   "display_name": "GG_2472",
   "language": "python",
   "name": "gg_2472"
  },
  "language_info": {
   "codemirror_mode": {
    "name": "ipython",
    "version": 3
   },
   "file_extension": ".py",
   "mimetype": "text/x-python",
   "name": "python",
   "nbconvert_exporter": "python",
   "pygments_lexer": "ipython3",
   "version": "3.9.18"
  }
 },
 "nbformat": 4,
 "nbformat_minor": 5
}
