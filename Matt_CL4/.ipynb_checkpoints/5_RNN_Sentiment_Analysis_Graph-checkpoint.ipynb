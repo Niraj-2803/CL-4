{
 "cells": [
  {
   "cell_type": "markdown",
   "id": "1374b181",
   "metadata": {},
   "source": [
    "## Question\n",
    "\n",
    "Q5) Perform Sentiment Analysis in the network graph using RNN"
   ]
  },
  {
   "cell_type": "code",
   "execution_count": 2,
   "id": "17db7f55",
   "metadata": {},
   "outputs": [
    {
     "name": "stderr",
     "output_type": "stream",
     "text": [
      "C:\\Users\\niraj_1kwckht\\anaconda\\lib\\site-packages\\pandas\\core\\computation\\expressions.py:21: UserWarning: Pandas requires version '2.8.4' or newer of 'numexpr' (version '2.8.1' currently installed).\n",
      "  from pandas.core.computation.check import NUMEXPR_INSTALLED\n",
      "C:\\Users\\niraj_1kwckht\\anaconda\\lib\\site-packages\\pandas\\core\\arrays\\masked.py:60: UserWarning: Pandas requires version '1.3.6' or newer of 'bottleneck' (version '1.3.4' currently installed).\n",
      "  from pandas.core import (\n",
      "C:\\Users\\niraj_1kwckht\\anaconda\\lib\\site-packages\\keras\\src\\layers\\core\\embedding.py:90: UserWarning: Argument `input_length` is deprecated. Just remove it.\n",
      "  warnings.warn(\n"
     ]
    },
    {
     "name": "stdout",
     "output_type": "stream",
     "text": [
      "Epoch 1/5\n",
      "\u001b[1m3/3\u001b[0m \u001b[32m━━━━━━━━━━━━━━━━━━━━\u001b[0m\u001b[37m\u001b[0m \u001b[1m5s\u001b[0m 19ms/step - accuracy: 0.5750 - loss: 0.6923\n",
      "Epoch 2/5\n",
      "\u001b[1m3/3\u001b[0m \u001b[32m━━━━━━━━━━━━━━━━━━━━\u001b[0m\u001b[37m\u001b[0m \u001b[1m0s\u001b[0m 12ms/step - accuracy: 0.5500 - loss: 0.6881\n",
      "Epoch 3/5\n",
      "\u001b[1m3/3\u001b[0m \u001b[32m━━━━━━━━━━━━━━━━━━━━\u001b[0m\u001b[37m\u001b[0m \u001b[1m0s\u001b[0m 10ms/step - accuracy: 0.7375 - loss: 0.6712\n",
      "Epoch 4/5\n",
      "\u001b[1m3/3\u001b[0m \u001b[32m━━━━━━━━━━━━━━━━━━━━\u001b[0m\u001b[37m\u001b[0m \u001b[1m0s\u001b[0m 11ms/step - accuracy: 0.5500 - loss: 0.6691\n",
      "Epoch 5/5\n",
      "\u001b[1m3/3\u001b[0m \u001b[32m━━━━━━━━━━━━━━━━━━━━\u001b[0m\u001b[37m\u001b[0m \u001b[1m0s\u001b[0m 11ms/step - accuracy: 0.7375 - loss: 0.6500\n"
     ]
    },
    {
     "data": {
      "image/png": "[encoded data removed]",
      "text/plain": [
       "<Figure size 432x288 with 1 Axes>"
      ]
     },
     "metadata": {},
     "output_type": "display_data"
    }
   ],
   "source": [
    "\n",
    "import numpy as np\n",
    "# Sample data (replace this with your actual dataset)\n",
    "texts = [\n",
    "    \"I love this product!\",\n",
    "    \"This is terrible and I hate it.\",\n",
    "    \"Absolutely amazing experience.\",\n",
    "    \"Not good, very disappointing.\",\n",
    "    \"I'm so happy with the service.\"\n",
    "]\n",
    "\n",
    "\n",
    "labels = np.array([1, 0, 1, 0, 1])\n",
    "\n",
    "# Tokenize and preprocess\n",
    "\n",
    "from tensorflow.keras.preprocessing.text import Tokenizer\n",
    "from tensorflow.keras.preprocessing.sequence import pad_sequences\n",
    "\n",
    "tokenizer = Tokenizer(num_words=5000)\n",
    "tokenizer.fit_on_texts(texts)\n",
    "sequences = tokenizer.texts_to_sequences(texts)\n",
    "X = pad_sequences(sequences, maxlen=10)\n",
    "\n",
    "# Build the RNN model\n",
    "from tensorflow.keras.models import Sequential\n",
    "from tensorflow.keras.layers import Embedding, LSTM, Dense\n",
    "\n",
    "model = Sequential()\n",
    "model.add(Embedding(input_dim=5000, output_dim=64, input_length=10))\n",
    "model.add(LSTM(64))\n",
    "model.add(Dense(1, activation='sigmoid'))\n",
    "\n",
    "model.compile(loss='binary_crossentropy', optimizer='adam', metrics=['accuracy'])\n",
    "model.fit(X, labels, epochs=5, batch_size=2)\n",
    "\n",
    "import networkx as nx\n",
    "import matplotlib.pyplot as plt\n",
    "\n",
    "\n",
    "# Define a simple graph\n",
    "edge_list = [(0, 1), (1, 2), (2, 3), (3, 4)]\n",
    "\n",
    "G = nx.Graph()\n",
    "G.add_edges_from(edge_list)\n",
    "\n",
    "\n",
    "\n",
    "#real_predictions = model.predict(X)\n",
    "#real_labels = (real_predictions > 0.5).astype(int).flatten())\n",
    "\n",
    "\n",
    "\n",
    "# Fake predictions from your model (replace with actual model.predict if needed)\n",
    "fake_predictions = np.array([1, 0, 1, 0, 1])  # 1 = positive, 0 = negative\n",
    "\n",
    "# Assign sentiment to nodes\n",
    "for i, node in enumerate(G.nodes()):\n",
    "    G.nodes[node]['sentiment'] = fake_predictions[i]\n",
    "\n",
    "# Color node based on sentiment\n",
    "colors = ['green' if G.nodes[n]['sentiment'] == 1 else 'red' for n in G.nodes()]\n",
    "\n",
    "nx.draw(G, with_labels=True, node_color=colors, node_size=800, font_color='white')\n",
    "plt.title(\"Sentiment Analysis on Network Graph\")\n",
    "plt.show()"
   ]
  }
 ],
 "metadata": {
  "kernelspec": {
   "display_name": "Python 3 (ipykernel)",
   "language": "python",
   "name": "python3"
  },
  "language_info": {
   "codemirror_mode": {
    "name": "ipython",
    "version": 3
   },
   "file_extension": ".py",
   "mimetype": "text/x-python",
   "name": "python",
   "nbconvert_exporter": "python",
   "pygments_lexer": "ipython3",
   "version": "3.9.12"
  }
 },
 "nbformat": 4,
 "nbformat_minor": 5
}
